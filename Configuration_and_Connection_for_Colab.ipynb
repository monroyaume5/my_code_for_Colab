{
  "cells": [
    {
      "cell_type": "markdown",
      "metadata": {
        "id": "view-in-github",
        "colab_type": "text"
      },
      "source": [
        "<a href=\"https://colab.research.google.com/github/monroyaume5/my_code_for_Colab/blob/main/Configuration_and_Connection_for_Colab.ipynb\" target=\"_parent\"><img src=\"https://colab.research.google.com/assets/colab-badge.svg\" alt=\"Open In Colab\"/></a>"
      ]
    },
    {
      "cell_type": "markdown",
      "metadata": {
        "id": "UU_kETEiVDSr"
      },
      "source": [
        "# Linking GitHub and Colab by using graphic interface.\n",
        "Ref:https://bebi103a.github.io/lessons/02/git_with_colab.html.\n",
        "## Pushing notebook to the repository:\n",
        "click File → Save a copy in GitHub. You will be prompted to add a commit message, and after you click OK, the notebook will be pushed to your repository.\n",
        "## Chrome plug-in for quick access:\n",
        "If you use Chrome as your browser, there is a convenient plug-in called [Open in Colab](https://chrome.google.com/webstore/detail/open-in-colab/iogfkhleblhcpcekbiedikdehleodpjo) that allows you to open a notebook from any GitHub page in Colab. So, after installing the plugin, if you are on the webpage of your team’s repository, you can click the icon next to the address bar in your Chrome browser and the notebook will open in Colab. You can then proceed to push the notebook back to the repository after making your changes as described above.\n"
      ]
    },
    {
      "cell_type": "code",
      "execution_count": null,
      "metadata": {
        "colab": {
          "base_uri": "https://localhost:8080/"
        },
        "id": "dOS02VA4Uy7M",
        "outputId": "50496cdc-10be-42ad-f09f-f45ee39d480b"
      },
      "outputs": [
        {
          "name": "stdout",
          "output_type": "stream",
          "text": [
            "Testing\n"
          ]
        }
      ],
      "source": [
        "print('Testing')"
      ]
    },
    {
      "cell_type": "markdown",
      "metadata": {
        "id": "PsA0mcEgt97A"
      },
      "source": [
        "# Linking GitHub and Colab by using command line.\n",
        "Ref:[How to Connect to VSCode to Colab](https://colab.research.google.com/github/JayThibs/jacques-blog/blob/master/_notebooks/2021-09-27-connect-to-colab-from-local-vscode.ipynb#scrollTo=GlgIt44H0PrV)."
      ]
    },
    {
      "cell_type": "markdown",
      "metadata": {
        "id": "X5YgDBfBrvWz"
      },
      "source": [
        "First we can mount our Google Drive so that we have access files or data that we need:\n"
      ]
    },
    {
      "cell_type": "code",
      "execution_count": null,
      "metadata": {
        "colab": {
          "base_uri": "https://localhost:8080/"
        },
        "id": "ajfUXFQnro1S",
        "outputId": "a7217a4e-6cf1-4cb0-e9f3-08d0b72beef4"
      },
      "outputs": [
        {
          "name": "stdout",
          "output_type": "stream",
          "text": [
            "Drive already mounted at /content/drive; to attempt to forcibly remount, call drive.mount(\"/content/drive\", force_remount=True).\n"
          ]
        }
      ],
      "source": [
        "from google.colab import drive\n",
        "drive.mount(\"/content/drive\")\n",
        "home_dir='/content/drive/MyDrive/'"
      ]
    },
    {
      "cell_type": "markdown",
      "metadata": {
        "id": "UyGH3dwcsBm3"
      },
      "source": [
        "This part is optional, but you can access a .env file in your Google Drive to access a PASSWORD and GITHUB_ACCESS_TOKEN:\n"
      ]
    },
    {
      "cell_type": "code",
      "execution_count": null,
      "metadata": {
        "id": "pVeH5C1isdo7"
      },
      "outputs": [],
      "source": [
        "%pip install python-dotenv --quiet\n",
        "import dotenv\n",
        "import os\n",
        "dotenv.load_dotenv(\n",
        "        os.path.join(home_dir+'vscode_ssh.env')\n",
        "    )\n",
        "password = os.getenv('SSH_PASSWORD')  #my password for SSH not Github\n",
        "github_access_token = os.getenv('GITHUB_ACCESS_TOKEN')\n",
        "email_for_github=os.getenv('email_for_github') #not registered username and email instead of email for submitting\n",
        "github_username=os.getenv('github_username')    "
      ]
    },
    {
      "cell_type": "markdown",
      "metadata": {
        "id": "6mAeGsZOsIlR"
      },
      "source": [
        "Here we will add the url to the github repo we would like to work on:\n"
      ]
    },
    {
      "cell_type": "code",
      "execution_count": null,
      "metadata": {
        "id": "oXAihF2Jsje5"
      },
      "outputs": [],
      "source": [
        "#the repo must be public\n",
        "git_repo = 'https://github.com/monroyaume5/my_code_for_Colab' #<link_to_git_repo>"
      ]
    },
    {
      "cell_type": "markdown",
      "metadata": {
        "id": "UTKR-bn6sK49"
      },
      "source": [
        "Now we can install colab-ssh and import it:"
      ]
    },
    {
      "cell_type": "code",
      "execution_count": null,
      "metadata": {
        "colab": {
          "base_uri": "https://localhost:8080/"
        },
        "id": "LKUxZvfjsqh-",
        "outputId": "a31a05f0-01c8-449a-a16e-dc400ca9b6a7"
      },
      "outputs": [
        {
          "name": "stdout",
          "output_type": "stream",
          "text": [
            "\u001b[33mWARNING: Running pip as the 'root' user can result in broken permissions and conflicting behaviour with the system package manager. It is recommended to use a virtual environment instead: https://pip.pypa.io/warnings/venv\u001b[0m\n"
          ]
        }
      ],
      "source": [
        "# Install colab_ssh on google colab\n",
        "!pip install colab_ssh --upgrade --quiet\n",
        "from colab_ssh import launch_ssh_cloudflared, init_git_cloudflared\n"
      ]
    },
    {
      "cell_type": "markdown",
      "metadata": {
        "id": "mVtA1_R5sPYU"
      },
      "source": [
        "Finally, we create the ssh connection and also add our github repo:"
      ]
    },
    {
      "cell_type": "code",
      "execution_count": null,
      "metadata": {
        "id": "YZrt9HnotF6I"
      },
      "outputs": [],
      "source": [
        "launch_ssh_cloudflared(password)#password='sshpassword'\n",
        "init_git_cloudflared(repository_url=git_repo + \".git\",\n",
        "         personal_token=github_access_token, \n",
        "         branch=\"main\",  \n",
        "         email=email_for_github, #<email_for_github>      \n",
        "         username=github_username) #<github_username>"
      ]
    },
    {
      "cell_type": "markdown",
      "metadata": {
        "id": "idT92anpwPfL"
      },
      "source": [
        "# Linking VSCode and Colab by using command line.\n",
        "Ref:[How to Connect to VSCode to Colab](https://colab.research.google.com/github/JayThibs/jacques-blog/blob/master/_notebooks/2021-09-27-connect-to-colab-from-local-vscode.ipynb#scrollTo=GlgIt44H0PrV)."
      ]
    },
    {
      "cell_type": "markdown",
      "metadata": {
        "id": "zgf8qQeD0Prf"
      },
      "source": [
        "## Setting up Cloudflared\n",
        "\n",
        "After that, you will get the following output:\n",
        "\n",
        "![colab-ssh-output](https://raw.githubusercontent.com/JayThibs/jacques-blog/master/images/colab-ssh-output.png)\n",
        "\n",
        "As it says in \"Client machine configuration\", you will need to download \"cloudflared (Argo Tunnel)\" for your OS. I use Mac so that's the one I downloaded. I downloaded the latest version instead of using `brew install` since that was faster.\n",
        "\n",
        "Anyways, go [here](https://developers.cloudflare.com/cloudflare-one/connections/connect-apps/install-and-setup/installation) and download the binary,or go to their [github repo](https://github.com/cloudflare/cloudflared/releases). Then, untar the file (or execute the .exe?) and then place the `cloudflared` file in whatever local path you prefer. If using Windows, you can find the path `C:\\Program Files (x86)\\cloudflared\\cloudflared.exe`.\n",
        "Also `binPath='<path-to-exe>'`.\n",
        "\n",
        "## Setup in VSCode\n",
        "\n",
        "Download 'Remote - SSH': go into VSCode and go to Extensions (CTRL+SHIFT+P), and search and click on \"Install Extension\". Then, in Extensions, search and download \"Remote - SSH\".\n",
        "\n",
        "Now that we have Remote - SSH, go into Command Palette (CTRL+SHIFT+P), and search by inputing\"Remote - SSH\" and click on \"Remote - SSH: Open SSH Configuration File\". This file is located at `~/.ssh/config`. Go to that file and paste the following:\n",
        "\n",
        "```\n",
        "CopyHost *.trycloudflare.com\n",
        "\tHostName %h\n",
        "\tUser root\n",
        "\tPort 22\n",
        "\tProxyCommand C:\\Program Files (x86)\\cloudflared\\cloudflared.exe access ssh --hostname %h\n",
        "```\n",
        "\n",
        "I'm assuming the port is 22 for everyone. If you have a different port, you can change it based on the output you received.\n",
        "\n",
        "Now, save the config file, copy the \"VSCode Remote SSH\" hostname from the Colab output, and paste it into the text box after clicking on \"Remote - SSH: Connect to Host...\".\n",
        "\n",
        "There should be a new window that opens up.\n",
        "\n",
        "Click continue when a pop-up about a fingerprint appears and then type in the password you passed in to `launch_ssh_cloudflared`. You are now fully connected via ssh! \n",
        "\n",
        "\n",
        "**Remember to select 'Linux' instead of 'Windows' though you are using Windows when you got the option to select Linux, Windows or Mac.Since you are connecting to a server and not your own computer, the type of server you are connecting to is most likely Linux**.\n",
        "\n",
        "**Another method to link SSH is to click 'remote explorer' and select SSH targets and click 'add' icon then paste `ssh officers-share-martial-item.trycloudflare.com` show above**. \n",
        "\n",
        "You can now access your GitHub repository via \"Open Folder\" in Explorer. I have not figured out how to changed the repository location yet, but for now, you will need to click on `..` to exit /root/ and then click on `content` and your repository should be there.\n",
        "\n",
        "\n",
        "You will get some cloudflared files added to the root of your repository, you can add them to your .gitignore file.\n",
        "\n",
        "## Additional Tips to Get Started Quickly\n",
        "\n",
        "### Quick Package Installation\n",
        "\n",
        "Once you've set things up, you just need to click Run All in Colab and it goes pretty fast. However, you will still need to reinstall all packages every time you create a new connection since Colab instances are ephemeral.\n",
        "\n",
        "I suggest you either create a `requirements.txt` file, `environment.yml` file, or you use a package like `poetry` to get up and running quickly.\n",
        "\n",
        "Note for Conda: you need to run some extra code in Colab in order to get access to Conda in Colab. Follow the tutorial [here](https://towardsdatascience.com/conda-google-colab-75f7c867a522) if you really want to use Conda. Personally, I would recommend against it since it takes longer to install. Try using pip, pip-tools or poetry instead.\n",
        "\n",
        "In my case, I create a Makefile for every project and then I simply need to enter `make poetry` in the terminal. To create a Makefile, simply create a file called `Makefile` in your project directory. Then, in the Makefile, you can add the following (or whatever installation commands you want for your specific dependency manager):\n",
        "```\n",
        "# Compile and install exact python packages\n",
        "poetry:\n",
        "\tpip install poetry\n",
        "\tpoetry install\n",
        "```\n",
        "Of course, you can use whatever package manager you prefer.\n",
        "\n",
        "And that's it! You are now ready to start coding!\n",
        "\n",
        "### Use only one Colab Notebook\n",
        "To prevent having to create a notebook for every project, do the following to things:\n",
        "\n",
        "Do your package installations in VSCode rather than Colab. Then you only need to install the packages for a specific project.\n",
        "\n",
        "Create a cell in your Colab notebook with strings to your github repositories using git_repo = \"git_repo_url\". Just comment out the ones you don't want and uncomment the one you do.\n",
        "\n",
        "This might sound obvious, but I started out by trying to install via Colab when I started out!"
      ]
    },
    {
      "cell_type": "markdown",
      "metadata": {
        "id": "UDC15Fhy0Prg"
      },
      "source": [
        "## Troubleshooting\n",
        "\n",
        "### You are Asked for Username and Password\n",
        "\n",
        "If you are asked for a username and password after launching the SSH connection, that means you are not passing in your GitHub personal access token into `init_git_cloudflared`. Make sure to do that.\n",
        "\n",
        "You can setup your GitHub personal access token by clicking on your icon on the top right on GitHub, clicking on \"Settings\", scroll down and click on \"Developer settings\", and then clicking on \"Personal Access Tokens\". Generate a new token and use it in `init_git_cloudflared`.\n",
        "\n",
        "### If you get: \"Could not establish connection to...\"\n",
        "\n",
        "This could mean a few things, so I'll go over the ones I encountered:\n",
        "\n",
        "1: Your Remote - SSH config file is not correct.\n",
        "\n",
        "Go to \"Remote - SSH: Settings\" and make sure that you are using the correct config file like the one below:\n",
        "\n",
        "![remote-ssh-settings-config](https://raw.githubusercontent.com/JayThibs/jacques-blog/master/images/remote-ssh-settings-config.png)\n",
        "\n",
        "2:  Colab is still running `init_git_cloudflared` because you did not pass it a valid personal access token.\n",
        "\n",
        "### No Access to GPU?\n",
        "\n",
        "Don't forget to go to Runtime > Change Runtime Type and select \"GPU\" in Colab!\n",
        "\n",
        "### Can't Find Repository?\n",
        "\n",
        "If you ran the code on a different repository and then you rerun it on a new repository, this may happen. Do resolve this, just do a factory reset of your Colab instance, and then rerun the code."
      ]
    },
    {
      "cell_type": "markdown",
      "metadata": {
        "id": "rJFIzglQ3r70"
      },
      "source": [
        "Altenative Ref: Colab + Vs Code + GitHub + Jupyter (Perfect for Deep Learning) [link](https://medium.com/analytics-vidhya/colab-vs-code-github-jupyter-perfect-for-deep-learning-2b257ae94d01)"
      ]
    }
  ],
  "metadata": {
    "accelerator": "GPU",
    "colab": {
      "collapsed_sections": [],
      "name": "Configuration_and_Connection_for_Colab.ipynb",
      "provenance": [],
      "include_colab_link": true
    },
    "kernelspec": {
      "display_name": "Python 3",
      "name": "python3"
    },
    "language_info": {
      "codemirror_mode": {
        "name": "ipython",
        "version": 3
      },
      "file_extension": ".py",
      "mimetype": "text/x-python",
      "name": "python",
      "nbconvert_exporter": "python",
      "pygments_lexer": "ipython3",
      "version": "3.7.12"
    }
  },
  "nbformat": 4,
  "nbformat_minor": 0
}