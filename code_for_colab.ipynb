{
  "nbformat": 4,
  "nbformat_minor": 0,
  "metadata": {
    "colab": {
      "name": "code_for_colab.ipynb",
      "provenance": [],
      "authorship_tag": "ABX9TyPVPTnQj8fSsGdL9oVNgDG+",
      "include_colab_link": true
    },
    "kernelspec": {
      "name": "python3",
      "display_name": "Python 3"
    },
    "language_info": {
      "name": "python"
    }
  },
  "cells": [
    {
      "cell_type": "markdown",
      "metadata": {
        "id": "view-in-github",
        "colab_type": "text"
      },
      "source": [
        "<a href=\"https://colab.research.google.com/github/monroyaume5/my_code_for_Colab/blob/main/code_for_colab.ipynb\" target=\"_parent\"><img src=\"https://colab.research.google.com/assets/colab-badge.svg\" alt=\"Open In Colab\"/></a>"
      ]
    },
    {
      "cell_type": "markdown",
      "source": [
        "# This is the code just for testing GitHub and Colab connection.\n",
        "Ref:https://bebi103a.github.io/lessons/02/git_with_colab.html.\n",
        "# Pushing notebook to the repository:\n",
        "click File → Save a copy in GitHub. You will be prompted to add a commit message, and after you click OK, the notebook will be pushed to your repository.\n"
      ],
      "metadata": {
        "id": "UU_kETEiVDSr"
      }
    },
    {
      "cell_type": "code",
      "execution_count": 1,
      "metadata": {
        "colab": {
          "base_uri": "https://localhost:8080/"
        },
        "id": "dOS02VA4Uy7M",
        "outputId": "d9819ee5-5485-4c6e-e975-5e4b208c1aff"
      },
      "outputs": [
        {
          "output_type": "stream",
          "name": "stdout",
          "text": [
            "Testing\n"
          ]
        }
      ],
      "source": [
        "print('Testing')"
      ]
    }
  ]
}