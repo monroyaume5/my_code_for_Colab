{
  "nbformat": 4,
  "nbformat_minor": 0,
  "metadata": {
    "colab": {
      "name": "code_for_colab.ipynb",
      "provenance": [],
      "collapsed_sections": [],
      "authorship_tag": "ABX9TyOET3tI/FHqamEnir5W1PQO",
      "include_colab_link": true
    },
    "kernelspec": {
      "name": "python3",
      "display_name": "Python 3"
    },
    "language_info": {
      "name": "python"
    }
  },
  "cells": [
    {
      "cell_type": "markdown",
      "metadata": {
        "id": "view-in-github",
        "colab_type": "text"
      },
      "source": [
        "<a href=\"https://colab.research.google.com/github/monroyaume5/my_code_for_Colab/blob/main/code_for_colab.ipynb\" target=\"_parent\"><img src=\"https://colab.research.google.com/assets/colab-badge.svg\" alt=\"Open In Colab\"/></a>"
      ]
    },
    {
      "cell_type": "markdown",
      "source": [
        "# This is the code just for testing GitHub and Colab connection.\n",
        "Ref:https://bebi103a.github.io/lessons/02/git_with_colab.html.\n",
        "# Pushing notebook to the repository:\n",
        "click File → Save a copy in GitHub. You will be prompted to add a commit message, and after you click OK, the notebook will be pushed to your repository.\n",
        "# Chrome plug-in for quick access:\n",
        "If you use Chrome as your browser, there is a convenient plug-in called [Open in Colab](https://chrome.google.com/webstore/detail/open-in-colab/iogfkhleblhcpcekbiedikdehleodpjo) that allows you to open a notebook from any GitHub page in Colab. So, after installing the plugin, if you are on the webpage of your team’s repository, you can click the icon next to the address bar in your Chrome browser and the notebook will open in Colab. You can then proceed to push the notebook back to the repository after making your changes as described above.\n"
      ],
      "metadata": {
        "id": "UU_kETEiVDSr"
      }
    },
    {
      "cell_type": "code",
      "execution_count": 1,
      "metadata": {
        "colab": {
          "base_uri": "https://localhost:8080/"
        },
        "id": "dOS02VA4Uy7M",
        "outputId": "d9819ee5-5485-4c6e-e975-5e4b208c1aff"
      },
      "outputs": [
        {
          "output_type": "stream",
          "name": "stdout",
          "text": [
            "Testing\n"
          ]
        }
      ],
      "source": [
        "print('Testing')"
      ]
    }
  ]
}